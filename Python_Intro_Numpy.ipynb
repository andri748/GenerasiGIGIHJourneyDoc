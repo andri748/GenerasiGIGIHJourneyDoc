{
  "nbformat": 4,
  "nbformat_minor": 0,
  "metadata": {
    "colab": {
      "name": "Python Intro Copy of Copy of D1 Part 2 - Numpy",
      "provenance": [],
      "toc_visible": true
    },
    "kernelspec": {
      "name": "python3",
      "display_name": "Python 3"
    },
    "language_info": {
      "name": "python"
    }
  },
  "cells": [
    {
      "cell_type": "markdown",
      "source": [
        "# Table Of Contents\n",
        "\n",
        "- Using Numpy\n",
        "    - List and Array Performance Comparison\n",
        "    - Numpy Arrays\n",
        "    - Array Attributes and Methods\n",
        "    - Dimension and Shapes\n",
        "- Numpy Indexing and Selection\n",
        "    - Bracket Indexing and Selection\n",
        "    - Indexing a 2D array\n",
        "    - Selection\n",
        "- NumPy Operations"
      ],
      "metadata": {
        "id": "FwKWgv_o_-NE"
      }
    },
    {
      "cell_type": "markdown",
      "source": [
        "# Using NumPy\n",
        "\n",
        "Once you've installed NumPy you can import it as a library:"
      ],
      "metadata": {
        "id": "k7WU0oTt_ba8"
      }
    },
    {
      "cell_type": "code",
      "execution_count": null,
      "metadata": {
        "id": "gwXBKxuB_YUN"
      },
      "outputs": [],
      "source": [
        "import numpy as np\n",
        "import pandas as pd"
      ]
    },
    {
      "cell_type": "markdown",
      "source": [
        "---\n",
        "Numpy has many built-in functions and capabilities. We won't cover them all but instead we will focus on some of the most important aspects of Numpy: vectors,arrays,matrices, and number generation. Let's start by discussing arrays.\n",
        "\n",
        "## Numpy Arrays\n",
        "\n",
        "NumPy arrays are the main way we will use Numpy throughout the course. Numpy arrays essentially come in two flavors: vectors and matrices. Vectors are strictly 1-d arrays and matrices are 2-d (but you should note a matrix can still have only one row or one column).\n",
        "\n",
        "Let's begin our introduction by exploring how to create NumPy arrays."
      ],
      "metadata": {
        "id": "ruIbWzOO_484"
      }
    },
    {
      "cell_type": "code",
      "source": [
        "my_list = [1,2,3]\n",
        "my_list"
      ],
      "metadata": {
        "id": "wH10EGVV_qbO",
        "colab": {
          "base_uri": "https://localhost:8080/"
        },
        "outputId": "fcfc3d78-b9e1-4289-80bb-16d9c7e59e6b"
      },
      "execution_count": null,
      "outputs": [
        {
          "output_type": "execute_result",
          "data": {
            "text/plain": [
              "[1, 2, 3]"
            ]
          },
          "metadata": {},
          "execution_count": 5
        }
      ]
    },
    {
      "cell_type": "code",
      "source": [
        "np.array(my_list)"
      ],
      "metadata": {
        "id": "AgsjTiGVAx7K",
        "colab": {
          "base_uri": "https://localhost:8080/"
        },
        "outputId": "dc406eff-1ac3-4f38-99a7-b3adcb320cd9"
      },
      "execution_count": null,
      "outputs": [
        {
          "output_type": "execute_result",
          "data": {
            "text/plain": [
              "array([1, 2, 3])"
            ]
          },
          "metadata": {},
          "execution_count": 6
        }
      ]
    },
    {
      "cell_type": "code",
      "source": [
        "my_matrix = [[1,2,3],[4,5,6],[7,8,9]]\n",
        "my_matrix"
      ],
      "metadata": {
        "id": "qFVyLp5aAy_y",
        "colab": {
          "base_uri": "https://localhost:8080/"
        },
        "outputId": "2126b14c-e790-4776-eab2-386c8ac45803"
      },
      "execution_count": null,
      "outputs": [
        {
          "output_type": "execute_result",
          "data": {
            "text/plain": [
              "[[1, 2, 3], [4, 5, 6], [7, 8, 9]]"
            ]
          },
          "metadata": {},
          "execution_count": 7
        }
      ]
    },
    {
      "cell_type": "code",
      "source": [
        "my_matrix*2"
      ],
      "metadata": {
        "id": "HZAcF6OMAz-t",
        "colab": {
          "base_uri": "https://localhost:8080/"
        },
        "outputId": "90b5c442-1c3e-45c4-f645-852d8b7acec9"
      },
      "execution_count": null,
      "outputs": [
        {
          "output_type": "execute_result",
          "data": {
            "text/plain": [
              "[[1, 2, 3], [4, 5, 6], [7, 8, 9], [1, 2, 3], [4, 5, 6], [7, 8, 9]]"
            ]
          },
          "metadata": {},
          "execution_count": 8
        }
      ]
    },
    {
      "cell_type": "code",
      "source": [
        "np.array(my_matrix)"
      ],
      "metadata": {
        "id": "7zlNa3LjA1I6",
        "colab": {
          "base_uri": "https://localhost:8080/"
        },
        "outputId": "4445bcea-7a13-4a49-cf1c-bf56352bdcd0"
      },
      "execution_count": null,
      "outputs": [
        {
          "output_type": "execute_result",
          "data": {
            "text/plain": [
              "array([[1, 2, 3],\n",
              "       [4, 5, 6],\n",
              "       [7, 8, 9]])"
            ]
          },
          "metadata": {},
          "execution_count": 9
        }
      ]
    },
    {
      "cell_type": "code",
      "source": [
        "np.array(my_matrix)*2"
      ],
      "metadata": {
        "id": "bjrNv6b9A2D9",
        "colab": {
          "base_uri": "https://localhost:8080/"
        },
        "outputId": "278df19b-3f60-4e67-f6a2-eeada74c6f53"
      },
      "execution_count": null,
      "outputs": [
        {
          "output_type": "execute_result",
          "data": {
            "text/plain": [
              "array([[ 2,  4,  6],\n",
              "       [ 8, 10, 12],\n",
              "       [14, 16, 18]])"
            ]
          },
          "metadata": {},
          "execution_count": 10
        }
      ]
    },
    {
      "cell_type": "code",
      "source": [
        "np.array(my_matrix).dtype"
      ],
      "metadata": {
        "id": "r_vFYQJsA3Ga",
        "colab": {
          "base_uri": "https://localhost:8080/"
        },
        "outputId": "16fdbb93-e9dc-4a1f-d5f1-2456685fe28e"
      },
      "execution_count": null,
      "outputs": [
        {
          "output_type": "execute_result",
          "data": {
            "text/plain": [
              "dtype('int64')"
            ]
          },
          "metadata": {},
          "execution_count": 11
        }
      ]
    },
    {
      "cell_type": "code",
      "source": [
        "np.random.rand(2)"
      ],
      "metadata": {
        "id": "raidhy3yBG8u",
        "colab": {
          "base_uri": "https://localhost:8080/"
        },
        "outputId": "a7479618-294b-43a1-eb6f-33530b70fc10"
      },
      "execution_count": null,
      "outputs": [
        {
          "output_type": "execute_result",
          "data": {
            "text/plain": [
              "array([0.46277967, 0.20156842])"
            ]
          },
          "metadata": {},
          "execution_count": 12
        }
      ]
    },
    {
      "cell_type": "code",
      "source": [
        "np.random.rand(5,5)"
      ],
      "metadata": {
        "id": "UHYWC2QSA48X",
        "colab": {
          "base_uri": "https://localhost:8080/"
        },
        "outputId": "73b3b1c6-daf3-4ba4-adbe-9cd2237cc86c"
      },
      "execution_count": null,
      "outputs": [
        {
          "output_type": "execute_result",
          "data": {
            "text/plain": [
              "array([[0.1805737 , 0.36245194, 0.38725345, 0.06598235, 0.69838183],\n",
              "       [0.18056184, 0.5052644 , 0.66468253, 0.45106236, 0.42699765],\n",
              "       [0.95207417, 0.98722406, 0.73809246, 0.21427794, 0.78606951],\n",
              "       [0.03761925, 0.44358861, 0.86580336, 0.05584263, 0.87124401],\n",
              "       [0.60509522, 0.20441472, 0.8728795 , 0.27960837, 0.38031307]])"
            ]
          },
          "metadata": {},
          "execution_count": 13
        }
      ]
    },
    {
      "cell_type": "markdown",
      "source": [
        "---\n",
        "## Array Attributes and Methods\n",
        "\n",
        "Let's discuss some useful attributes and methods or an array"
      ],
      "metadata": {
        "id": "Am-_41F6BNEr"
      }
    },
    {
      "cell_type": "code",
      "source": [
        "arr = np.arange(25)\n",
        "ranarr = np.random.randint(0,50,10)"
      ],
      "metadata": {
        "id": "ab243Kt7BGnh"
      },
      "execution_count": null,
      "outputs": []
    },
    {
      "cell_type": "code",
      "source": [
        "arr"
      ],
      "metadata": {
        "id": "_pjnodCxBXRZ",
        "colab": {
          "base_uri": "https://localhost:8080/"
        },
        "outputId": "1cfb789a-d083-462f-cf77-10fadeb70020"
      },
      "execution_count": null,
      "outputs": [
        {
          "output_type": "execute_result",
          "data": {
            "text/plain": [
              "array([ 0,  1,  2,  3,  4,  5,  6,  7,  8,  9, 10, 11, 12, 13, 14, 15, 16,\n",
              "       17, 18, 19, 20, 21, 22, 23, 24])"
            ]
          },
          "metadata": {},
          "execution_count": 15
        }
      ]
    },
    {
      "cell_type": "code",
      "source": [
        "ranarr"
      ],
      "metadata": {
        "id": "gx-7qe4oBYQU",
        "colab": {
          "base_uri": "https://localhost:8080/"
        },
        "outputId": "708441b3-077e-4345-dcaa-92f6b8d09a44"
      },
      "execution_count": null,
      "outputs": [
        {
          "output_type": "execute_result",
          "data": {
            "text/plain": [
              "array([10,  6, 41,  0,  7,  0, 35, 48, 26, 18])"
            ]
          },
          "metadata": {},
          "execution_count": 16
        }
      ]
    },
    {
      "cell_type": "code",
      "source": [
        "arr.reshape(5,5) #mengubah ke bentuk matriks berukuran 5x5"
      ],
      "metadata": {
        "id": "vKVHlKW8BZH9",
        "colab": {
          "base_uri": "https://localhost:8080/"
        },
        "outputId": "e673f686-7480-466e-e5bc-eb7ad649ebf0"
      },
      "execution_count": null,
      "outputs": [
        {
          "output_type": "execute_result",
          "data": {
            "text/plain": [
              "array([[ 0,  1,  2,  3,  4],\n",
              "       [ 5,  6,  7,  8,  9],\n",
              "       [10, 11, 12, 13, 14],\n",
              "       [15, 16, 17, 18, 19],\n",
              "       [20, 21, 22, 23, 24]])"
            ]
          },
          "metadata": {},
          "execution_count": 17
        }
      ]
    },
    {
      "cell_type": "code",
      "source": [
        "ranarr"
      ],
      "metadata": {
        "id": "__ELMOb3Ba7m",
        "colab": {
          "base_uri": "https://localhost:8080/"
        },
        "outputId": "6266bd2d-b6bc-465a-8e63-cf9337c09ea6"
      },
      "execution_count": null,
      "outputs": [
        {
          "output_type": "execute_result",
          "data": {
            "text/plain": [
              "array([10,  6, 41,  0,  7,  0, 35, 48, 26, 18])"
            ]
          },
          "metadata": {},
          "execution_count": 21
        }
      ]
    },
    {
      "cell_type": "code",
      "source": [
        "ranarr.max()"
      ],
      "metadata": {
        "id": "01ZYpdCtBdFQ",
        "colab": {
          "base_uri": "https://localhost:8080/"
        },
        "outputId": "d6373ada-dc39-47fb-de3c-0f550bc4c0c8"
      },
      "execution_count": null,
      "outputs": [
        {
          "output_type": "execute_result",
          "data": {
            "text/plain": [
              "48"
            ]
          },
          "metadata": {},
          "execution_count": 22
        }
      ]
    },
    {
      "cell_type": "code",
      "source": [
        "np.max(ranarr)"
      ],
      "metadata": {
        "id": "lY-aoOu1H_bN",
        "colab": {
          "base_uri": "https://localhost:8080/"
        },
        "outputId": "55415ba4-b76a-498f-840e-923f27b16a8d"
      },
      "execution_count": null,
      "outputs": [
        {
          "output_type": "execute_result",
          "data": {
            "text/plain": [
              "48"
            ]
          },
          "metadata": {},
          "execution_count": 23
        }
      ]
    },
    {
      "cell_type": "code",
      "source": [
        "ranarr.argmax() #mencari index keberapa nilai max nya"
      ],
      "metadata": {
        "id": "k-llPHGjBeHA",
        "colab": {
          "base_uri": "https://localhost:8080/"
        },
        "outputId": "e54813ea-f4aa-46e2-de09-d1dd30d0c7ff"
      },
      "execution_count": null,
      "outputs": [
        {
          "output_type": "execute_result",
          "data": {
            "text/plain": [
              "7"
            ]
          },
          "metadata": {},
          "execution_count": 24
        }
      ]
    },
    {
      "cell_type": "code",
      "source": [
        "ranarr.min()"
      ],
      "metadata": {
        "id": "lpeI3u6-BfjG",
        "colab": {
          "base_uri": "https://localhost:8080/"
        },
        "outputId": "04b3c60f-064b-4893-dd1c-e4061e1759ab"
      },
      "execution_count": null,
      "outputs": [
        {
          "output_type": "execute_result",
          "data": {
            "text/plain": [
              "0"
            ]
          },
          "metadata": {},
          "execution_count": 55
        }
      ]
    },
    {
      "cell_type": "code",
      "source": [
        "ranarr.argmin() #mencari index keberapa nilai min nya"
      ],
      "metadata": {
        "id": "PGPDSN7zBiPH",
        "colab": {
          "base_uri": "https://localhost:8080/"
        },
        "outputId": "71f7b85d-428b-434f-c4ad-6fc5d9b3f4fc"
      },
      "execution_count": null,
      "outputs": [
        {
          "output_type": "execute_result",
          "data": {
            "text/plain": [
              "3"
            ]
          },
          "metadata": {},
          "execution_count": 56
        }
      ]
    },
    {
      "cell_type": "markdown",
      "source": [
        "---\n",
        "## Dimensions and Shapes\n",
        "\n",
        "`ndim`, `size`, and `shape`\n",
        "\n",
        "- Shape is an attribute that arrays have (not a method)\n",
        "- `ndim` returns the array dimension\n",
        "- `size` returns the number of elements in the array"
      ],
      "metadata": {
        "id": "d9asCyNXBkmC"
      }
    },
    {
      "cell_type": "code",
      "source": [
        "A = np.array([\n",
        "    [1, 2, 3],\n",
        "    [4, 5, 6]\n",
        "])"
      ],
      "metadata": {
        "id": "6stjRRgvBit1"
      },
      "execution_count": null,
      "outputs": []
    },
    {
      "cell_type": "code",
      "source": [
        "A.shape"
      ],
      "metadata": {
        "id": "i9Ui2k_WBqw6",
        "colab": {
          "base_uri": "https://localhost:8080/"
        },
        "outputId": "2b155a67-ecb0-4cc3-c3e9-43cbf3b55d4f"
      },
      "execution_count": null,
      "outputs": [
        {
          "output_type": "execute_result",
          "data": {
            "text/plain": [
              "(2, 3)"
            ]
          },
          "metadata": {},
          "execution_count": 26
        }
      ]
    },
    {
      "cell_type": "code",
      "source": [
        "A.ndim"
      ],
      "metadata": {
        "id": "iRbzvlVtBsMa",
        "colab": {
          "base_uri": "https://localhost:8080/"
        },
        "outputId": "d2b3ab1b-6648-457f-b1b7-8403d3e68ae1"
      },
      "execution_count": null,
      "outputs": [
        {
          "output_type": "execute_result",
          "data": {
            "text/plain": [
              "2"
            ]
          },
          "metadata": {},
          "execution_count": 27
        }
      ]
    },
    {
      "cell_type": "code",
      "source": [
        "A.size"
      ],
      "metadata": {
        "id": "E0ulDdzRBtes",
        "colab": {
          "base_uri": "https://localhost:8080/"
        },
        "outputId": "367e4cfc-1ee9-4f67-c870-3ca29d83e82b"
      },
      "execution_count": null,
      "outputs": [
        {
          "output_type": "execute_result",
          "data": {
            "text/plain": [
              "6"
            ]
          },
          "metadata": {},
          "execution_count": 28
        }
      ]
    },
    {
      "cell_type": "code",
      "source": [
        "B = np.array([\n",
        "    [\n",
        "        [12, 11, 10],\n",
        "        [9, 8, 7],\n",
        "    ],\n",
        "    [\n",
        "        [6, 5, 4],\n",
        "        [3, 2, 1]\n",
        "    ]\n",
        "])"
      ],
      "metadata": {
        "id": "YbOy89sMBu-Y"
      },
      "execution_count": null,
      "outputs": []
    },
    {
      "cell_type": "code",
      "source": [
        "B"
      ],
      "metadata": {
        "id": "5fOicgGdBwiI",
        "colab": {
          "base_uri": "https://localhost:8080/"
        },
        "outputId": "d70f199b-c795-4cf3-b3e2-f6b21628a725"
      },
      "execution_count": null,
      "outputs": [
        {
          "output_type": "execute_result",
          "data": {
            "text/plain": [
              "array([[[12, 11, 10],\n",
              "        [ 9,  8,  7]],\n",
              "\n",
              "       [[ 6,  5,  4],\n",
              "        [ 3,  2,  1]]])"
            ]
          },
          "metadata": {},
          "execution_count": 30
        }
      ]
    },
    {
      "cell_type": "code",
      "source": [
        "B.shape"
      ],
      "metadata": {
        "id": "11vIM28kBxui",
        "colab": {
          "base_uri": "https://localhost:8080/"
        },
        "outputId": "80f10469-9e6d-4a7f-fdf6-9e4a584691c1"
      },
      "execution_count": null,
      "outputs": [
        {
          "output_type": "execute_result",
          "data": {
            "text/plain": [
              "(2, 2, 3)"
            ]
          },
          "metadata": {},
          "execution_count": 31
        }
      ]
    },
    {
      "cell_type": "code",
      "source": [
        "B.ndim"
      ],
      "metadata": {
        "id": "Blr0Pl4eBzFF",
        "colab": {
          "base_uri": "https://localhost:8080/"
        },
        "outputId": "4a49f6c7-38b8-4dbf-ef49-3b1e092b1349"
      },
      "execution_count": null,
      "outputs": [
        {
          "output_type": "execute_result",
          "data": {
            "text/plain": [
              "3"
            ]
          },
          "metadata": {},
          "execution_count": 32
        }
      ]
    },
    {
      "cell_type": "code",
      "source": [
        "B.size"
      ],
      "metadata": {
        "id": "eyeXyJZDB0Er",
        "colab": {
          "base_uri": "https://localhost:8080/"
        },
        "outputId": "25ac64f3-1826-497d-84cc-43a56c1b09c3"
      },
      "execution_count": null,
      "outputs": [
        {
          "output_type": "execute_result",
          "data": {
            "text/plain": [
              "12"
            ]
          },
          "metadata": {},
          "execution_count": 33
        }
      ]
    },
    {
      "cell_type": "markdown",
      "source": [
        "If the shape isn't consistent, it'll just fall back to regular Python objects:"
      ],
      "metadata": {
        "id": "BvGoWCeEB-my"
      }
    },
    {
      "cell_type": "code",
      "source": [
        "C = np.array([\n",
        "    [\n",
        "        [12, 11, 10],\n",
        "        [9, 8, 7],\n",
        "    ],\n",
        "    [\n",
        "        [6, 5, 4]\n",
        "    ]\n",
        "])"
      ],
      "metadata": {
        "id": "JqB0z63AB2qY",
        "colab": {
          "base_uri": "https://localhost:8080/"
        },
        "outputId": "a6c74dd9-1312-4d7c-91ff-9ff8f7ec8027"
      },
      "execution_count": null,
      "outputs": [
        {
          "output_type": "stream",
          "name": "stderr",
          "text": [
            "/usr/local/lib/python3.7/dist-packages/ipykernel_launcher.py:7: VisibleDeprecationWarning: Creating an ndarray from ragged nested sequences (which is a list-or-tuple of lists-or-tuples-or ndarrays with different lengths or shapes) is deprecated. If you meant to do this, you must specify 'dtype=object' when creating the ndarray.\n",
            "  import sys\n"
          ]
        }
      ]
    },
    {
      "cell_type": "code",
      "source": [
        "C.dtype"
      ],
      "metadata": {
        "id": "h7SyPfNhB4M7",
        "colab": {
          "base_uri": "https://localhost:8080/"
        },
        "outputId": "21ba8d83-1e98-41bb-c9ea-0f2fd9d319ba"
      },
      "execution_count": null,
      "outputs": [
        {
          "output_type": "execute_result",
          "data": {
            "text/plain": [
              "dtype('O')"
            ]
          },
          "metadata": {},
          "execution_count": 35
        }
      ]
    },
    {
      "cell_type": "code",
      "source": [
        "C.shape"
      ],
      "metadata": {
        "id": "KhnqvQTfCBTF",
        "colab": {
          "base_uri": "https://localhost:8080/"
        },
        "outputId": "d9628f83-244e-4906-826b-b90829820627"
      },
      "execution_count": null,
      "outputs": [
        {
          "output_type": "execute_result",
          "data": {
            "text/plain": [
              "(2,)"
            ]
          },
          "metadata": {},
          "execution_count": 36
        }
      ]
    },
    {
      "cell_type": "code",
      "source": [
        "C.size"
      ],
      "metadata": {
        "id": "0Kh0EtiICCcB",
        "colab": {
          "base_uri": "https://localhost:8080/"
        },
        "outputId": "531e80da-a302-4a6f-b5de-6a3efb3bfcd3"
      },
      "execution_count": null,
      "outputs": [
        {
          "output_type": "execute_result",
          "data": {
            "text/plain": [
              "2"
            ]
          },
          "metadata": {},
          "execution_count": 37
        }
      ]
    },
    {
      "cell_type": "code",
      "source": [
        "type(C[0])"
      ],
      "metadata": {
        "id": "Iw4mxAUXCGR7",
        "colab": {
          "base_uri": "https://localhost:8080/"
        },
        "outputId": "e008efbd-8f56-420f-a3c5-c5c5739ce1b9"
      },
      "execution_count": null,
      "outputs": [
        {
          "output_type": "execute_result",
          "data": {
            "text/plain": [
              "list"
            ]
          },
          "metadata": {},
          "execution_count": 38
        }
      ]
    },
    {
      "cell_type": "markdown",
      "source": [
        "# NumPy Indexing and Selection"
      ],
      "metadata": {
        "id": "pVCCaJtdCMSR"
      }
    },
    {
      "cell_type": "markdown",
      "source": [
        "## Bracket Indexing and Selection"
      ],
      "metadata": {
        "id": "t-iY2JlKDMHu"
      }
    },
    {
      "cell_type": "code",
      "source": [
        "arr = np.arange(0,11)"
      ],
      "metadata": {
        "id": "gOpXFnarCHQR"
      },
      "execution_count": null,
      "outputs": []
    },
    {
      "cell_type": "code",
      "source": [
        "arr"
      ],
      "metadata": {
        "id": "m2VZ2RrfCSdP",
        "colab": {
          "base_uri": "https://localhost:8080/"
        },
        "outputId": "219c6800-35b0-43ea-9996-48973d28e454"
      },
      "execution_count": null,
      "outputs": [
        {
          "output_type": "execute_result",
          "data": {
            "text/plain": [
              "array([ 0,  1,  2,  3,  4,  5,  6,  7,  8,  9, 10])"
            ]
          },
          "metadata": {},
          "execution_count": 40
        }
      ]
    },
    {
      "cell_type": "code",
      "source": [
        "#Get a value at an index\n",
        "arr[8]"
      ],
      "metadata": {
        "id": "MGk8hp8sCTPc",
        "colab": {
          "base_uri": "https://localhost:8080/"
        },
        "outputId": "5b6da3b3-904c-4087-b953-c35c6fe4efce"
      },
      "execution_count": null,
      "outputs": [
        {
          "output_type": "execute_result",
          "data": {
            "text/plain": [
              "8"
            ]
          },
          "metadata": {},
          "execution_count": 41
        }
      ]
    },
    {
      "cell_type": "code",
      "source": [
        "#Get values in a range\n",
        "arr[1:5]"
      ],
      "metadata": {
        "id": "5N3i5vPeCUYL",
        "colab": {
          "base_uri": "https://localhost:8080/"
        },
        "outputId": "e42b0f15-9fd9-4c11-beb2-6d3c06e1a358"
      },
      "execution_count": null,
      "outputs": [
        {
          "output_type": "execute_result",
          "data": {
            "text/plain": [
              "array([1, 2, 3, 4])"
            ]
          },
          "metadata": {},
          "execution_count": 42
        }
      ]
    },
    {
      "cell_type": "code",
      "source": [
        "#Get values in a range\n",
        "arr[-4:]"
      ],
      "metadata": {
        "id": "wtrjO8FjCWuc",
        "colab": {
          "base_uri": "https://localhost:8080/"
        },
        "outputId": "5caad497-00d1-4180-c129-f112829521c3"
      },
      "execution_count": null,
      "outputs": [
        {
          "output_type": "execute_result",
          "data": {
            "text/plain": [
              "array([ 7,  8,  9, 10])"
            ]
          },
          "metadata": {},
          "execution_count": 43
        }
      ]
    },
    {
      "cell_type": "code",
      "source": [
        "#Get values in a range\n",
        "arr[:5]"
      ],
      "metadata": {
        "id": "TYtrJlCGCYHf",
        "colab": {
          "base_uri": "https://localhost:8080/"
        },
        "outputId": "0735b127-f95c-4a3b-baf4-8906205be9f5"
      },
      "execution_count": null,
      "outputs": [
        {
          "output_type": "execute_result",
          "data": {
            "text/plain": [
              "array([0, 1, 2, 3, 4])"
            ]
          },
          "metadata": {},
          "execution_count": 44
        }
      ]
    },
    {
      "cell_type": "code",
      "source": [
        "arr[0:]"
      ],
      "metadata": {
        "id": "--E4Y7WvCZST",
        "colab": {
          "base_uri": "https://localhost:8080/"
        },
        "outputId": "40eda143-a29e-400a-c791-e5a7e64455c3"
      },
      "execution_count": null,
      "outputs": [
        {
          "output_type": "execute_result",
          "data": {
            "text/plain": [
              "array([ 0,  1,  2,  3,  4,  5,  6,  7,  8,  9, 10])"
            ]
          },
          "metadata": {},
          "execution_count": 45
        }
      ]
    },
    {
      "cell_type": "code",
      "source": [
        "arr[1:3]"
      ],
      "metadata": {
        "id": "KQjAG2l_CaUg",
        "colab": {
          "base_uri": "https://localhost:8080/"
        },
        "outputId": "7617dab0-b47c-45fe-a71a-34d99912b125"
      },
      "execution_count": null,
      "outputs": [
        {
          "output_type": "execute_result",
          "data": {
            "text/plain": [
              "array([1, 2])"
            ]
          },
          "metadata": {},
          "execution_count": 46
        }
      ]
    },
    {
      "cell_type": "code",
      "source": [
        "arr[1:-1]"
      ],
      "metadata": {
        "id": "F9o7y6qUCbZk",
        "colab": {
          "base_uri": "https://localhost:8080/"
        },
        "outputId": "ba0d472f-b735-4b1b-8097-77f33e7c3445"
      },
      "execution_count": null,
      "outputs": [
        {
          "output_type": "execute_result",
          "data": {
            "text/plain": [
              "array([1, 2, 3, 4, 5, 6, 7, 8, 9])"
            ]
          },
          "metadata": {},
          "execution_count": 47
        }
      ]
    },
    {
      "cell_type": "code",
      "source": [
        "arr[::2]"
      ],
      "metadata": {
        "id": "ullOmAYeCcOe",
        "colab": {
          "base_uri": "https://localhost:8080/"
        },
        "outputId": "57a1ca7a-d1a4-4ffd-add0-64100ab77817"
      },
      "execution_count": null,
      "outputs": [
        {
          "output_type": "execute_result",
          "data": {
            "text/plain": [
              "array([ 0,  2,  4,  6,  8, 10])"
            ]
          },
          "metadata": {},
          "execution_count": 48
        }
      ]
    },
    {
      "cell_type": "code",
      "source": [
        "#Setting a value with index range (Broadcasting)\n",
        "arr[0:5]=100\n",
        "\n",
        "#Show\n",
        "arr"
      ],
      "metadata": {
        "id": "ewzTf_eECdN1",
        "colab": {
          "base_uri": "https://localhost:8080/"
        },
        "outputId": "3299a0de-5c2e-4448-a590-00cf29050507"
      },
      "execution_count": null,
      "outputs": [
        {
          "output_type": "execute_result",
          "data": {
            "text/plain": [
              "array([100, 100, 100, 100, 100,   5,   6,   7,   8,   9,  10])"
            ]
          },
          "metadata": {},
          "execution_count": 49
        }
      ]
    },
    {
      "cell_type": "markdown",
      "source": [
        "## Indexing a 2D array (matrices)\n",
        "\n",
        "The general format are: \n",
        "- **arr_2d[row][col]** or \n",
        "- **arr_2d[row,col]**.\n",
        "\n",
        "I recommend usually using the comma notation for clarity.\n",
        "\n",
        "Similar with Python List, array index also start from 0"
      ],
      "metadata": {
        "id": "_ks1v_bkDIxb"
      }
    },
    {
      "cell_type": "code",
      "source": [
        "arr_2d = np.array(([5,10,15],[20,25,30],[35,40,45]))\n",
        "\n",
        "#Show\n",
        "arr_2d"
      ],
      "metadata": {
        "id": "QzPz5-bSC4fX",
        "colab": {
          "base_uri": "https://localhost:8080/"
        },
        "outputId": "bd078f04-634c-4413-d684-b6cdd7388e92"
      },
      "execution_count": null,
      "outputs": [
        {
          "output_type": "execute_result",
          "data": {
            "text/plain": [
              "array([[ 5, 10, 15],\n",
              "       [20, 25, 30],\n",
              "       [35, 40, 45]])"
            ]
          },
          "metadata": {},
          "execution_count": 50
        }
      ]
    },
    {
      "cell_type": "code",
      "source": [
        "#Indexing row\n",
        "arr_2d[1]"
      ],
      "metadata": {
        "id": "e5HEsgNcDRoZ",
        "colab": {
          "base_uri": "https://localhost:8080/"
        },
        "outputId": "1d81206f-c7aa-437f-f546-8d42f6275dee"
      },
      "execution_count": null,
      "outputs": [
        {
          "output_type": "execute_result",
          "data": {
            "text/plain": [
              "array([20, 25, 30])"
            ]
          },
          "metadata": {},
          "execution_count": 51
        }
      ]
    },
    {
      "cell_type": "code",
      "source": [
        "# Format is arr_2d[row][col] or arr_2d[row,col]\n",
        "\n",
        "# Getting individual element value\n",
        "arr_2d[1][0]"
      ],
      "metadata": {
        "id": "1K3iFnW9DSxD",
        "colab": {
          "base_uri": "https://localhost:8080/"
        },
        "outputId": "dc119757-871c-4bf5-b4aa-fc757d88df11"
      },
      "execution_count": null,
      "outputs": [
        {
          "output_type": "execute_result",
          "data": {
            "text/plain": [
              "20"
            ]
          },
          "metadata": {},
          "execution_count": 52
        }
      ]
    },
    {
      "cell_type": "code",
      "source": [
        "# Getting individual element value\n",
        "arr_2d[1,0]"
      ],
      "metadata": {
        "id": "dr6oyereDTs2",
        "colab": {
          "base_uri": "https://localhost:8080/"
        },
        "outputId": "8739cccc-b627-480e-8a16-dff9c5e218a8"
      },
      "execution_count": null,
      "outputs": [
        {
          "output_type": "execute_result",
          "data": {
            "text/plain": [
              "20"
            ]
          },
          "metadata": {},
          "execution_count": 53
        }
      ]
    },
    {
      "cell_type": "code",
      "source": [
        "# 2D array slicing\n",
        "\n",
        "#Shape (2,2) from top right corner\n",
        "arr_2d[:2,1:]"
      ],
      "metadata": {
        "id": "USn0tQneDU7A",
        "colab": {
          "base_uri": "https://localhost:8080/"
        },
        "outputId": "fd3ce711-04e8-4139-c3ed-aad9224bee76"
      },
      "execution_count": null,
      "outputs": [
        {
          "output_type": "execute_result",
          "data": {
            "text/plain": [
              "array([[10, 15],\n",
              "       [25, 30]])"
            ]
          },
          "metadata": {},
          "execution_count": 54
        }
      ]
    },
    {
      "cell_type": "code",
      "source": [
        "#Shape bottom row\n",
        "arr_2d[2]"
      ],
      "metadata": {
        "id": "qZoyhyt3DVuq"
      },
      "execution_count": null,
      "outputs": []
    },
    {
      "cell_type": "code",
      "source": [
        "#Shape bottom row\n",
        "arr_2d[2,:]"
      ],
      "metadata": {
        "id": "cDleR9tTDW1J"
      },
      "execution_count": null,
      "outputs": []
    },
    {
      "cell_type": "markdown",
      "source": [
        "## Selection\n",
        "\n",
        "Let's briefly go over how to use brackets for selection based off of comparison operators."
      ],
      "metadata": {
        "id": "5UvnhnstDeXG"
      }
    },
    {
      "cell_type": "code",
      "source": [
        "arr = np.arange(1,11)\n",
        "arr"
      ],
      "metadata": {
        "id": "SYQvZP-tDYAf"
      },
      "execution_count": null,
      "outputs": []
    },
    {
      "cell_type": "code",
      "source": [
        "arr > 4"
      ],
      "metadata": {
        "id": "OgBrzwg1Dn6C"
      },
      "execution_count": null,
      "outputs": []
    },
    {
      "cell_type": "code",
      "source": [
        "bool_arr = arr>4"
      ],
      "metadata": {
        "id": "rwgcf07jDo2W"
      },
      "execution_count": null,
      "outputs": []
    },
    {
      "cell_type": "code",
      "source": [
        "bool_arr"
      ],
      "metadata": {
        "id": "-WsSNH0bDpr4"
      },
      "execution_count": null,
      "outputs": []
    },
    {
      "cell_type": "code",
      "source": [
        "arr[bool_arr]"
      ],
      "metadata": {
        "id": "yVAyKWNBDqr7"
      },
      "execution_count": null,
      "outputs": []
    },
    {
      "cell_type": "code",
      "source": [
        "arr[arr<6]"
      ],
      "metadata": {
        "id": "oewTWZJSDr2R"
      },
      "execution_count": null,
      "outputs": []
    },
    {
      "cell_type": "code",
      "source": [
        "x = 2\n",
        "arr[arr>x]"
      ],
      "metadata": {
        "id": "ia93yUL3DuYb"
      },
      "execution_count": null,
      "outputs": []
    },
    {
      "cell_type": "markdown",
      "source": [
        "# NumPy Operations"
      ],
      "metadata": {
        "id": "kLr-wUQvHU1t"
      }
    },
    {
      "cell_type": "code",
      "source": [
        "arr = np.arange(0,10)"
      ],
      "metadata": {
        "id": "_5fUok98DwAU"
      },
      "execution_count": null,
      "outputs": []
    },
    {
      "cell_type": "code",
      "source": [
        "arr"
      ],
      "metadata": {
        "id": "nQhAfh23HYXm"
      },
      "execution_count": null,
      "outputs": []
    },
    {
      "cell_type": "code",
      "source": [
        "arr + arr"
      ],
      "metadata": {
        "id": "BXyNvFunHlx1"
      },
      "execution_count": null,
      "outputs": []
    },
    {
      "cell_type": "code",
      "source": [
        "arr * arr"
      ],
      "metadata": {
        "id": "IHRH1wbFHm3f"
      },
      "execution_count": null,
      "outputs": []
    },
    {
      "cell_type": "code",
      "source": [
        "arr - arr"
      ],
      "metadata": {
        "id": "4Wb_bm3-HntH"
      },
      "execution_count": null,
      "outputs": []
    },
    {
      "cell_type": "code",
      "source": [
        "arr.sum()"
      ],
      "metadata": {
        "id": "K65-sEkrHoys"
      },
      "execution_count": null,
      "outputs": []
    },
    {
      "cell_type": "code",
      "source": [
        "arr.mean()"
      ],
      "metadata": {
        "id": "uvRX49OnHrG3"
      },
      "execution_count": null,
      "outputs": []
    },
    {
      "cell_type": "code",
      "source": [
        "A = np.array([\n",
        "    [1, 2, 3],\n",
        "    [4, 5, 6],\n",
        "    [7, 8, 9]\n",
        "])"
      ],
      "metadata": {
        "id": "d233hUHJHsXx"
      },
      "execution_count": null,
      "outputs": []
    },
    {
      "cell_type": "code",
      "source": [
        "A.sum()"
      ],
      "metadata": {
        "id": "Is9v7YV6HvTL"
      },
      "execution_count": null,
      "outputs": []
    },
    {
      "cell_type": "code",
      "source": [
        "A.mean()"
      ],
      "metadata": {
        "id": "K9Tvw9dhHwUF"
      },
      "execution_count": null,
      "outputs": []
    },
    {
      "cell_type": "code",
      "source": [
        "A.sum(axis=1)"
      ],
      "metadata": {
        "id": "eSWIR2sJHxYB"
      },
      "execution_count": null,
      "outputs": []
    },
    {
      "cell_type": "code",
      "source": [
        "A.sum(axis=0)"
      ],
      "metadata": {
        "id": "uIVUMOHzH1kZ"
      },
      "execution_count": null,
      "outputs": []
    },
    {
      "cell_type": "code",
      "source": [
        "B = np.array([\n",
        "    [6, 5],\n",
        "    [4, 3],\n",
        "    [2, 1]\n",
        "])"
      ],
      "metadata": {
        "id": "qrKuKOFGH3EZ"
      },
      "execution_count": null,
      "outputs": []
    },
    {
      "cell_type": "code",
      "source": [
        "A.dot(B)"
      ],
      "metadata": {
        "id": "zedVIVkkIJC4"
      },
      "execution_count": null,
      "outputs": []
    },
    {
      "cell_type": "code",
      "source": [
        "B.T"
      ],
      "metadata": {
        "id": "kWJgUR7ZILeQ"
      },
      "execution_count": null,
      "outputs": []
    }
  ]
}