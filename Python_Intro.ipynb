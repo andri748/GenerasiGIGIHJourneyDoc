{
  "nbformat": 4,
  "nbformat_minor": 0,
  "metadata": {
    "kernelspec": {
      "display_name": "Python 3",
      "language": "python",
      "name": "python3"
    },
    "language_info": {
      "codemirror_mode": {
        "name": "ipython",
        "version": 3
      },
      "file_extension": ".py",
      "mimetype": "text/x-python",
      "name": "python",
      "nbconvert_exporter": "python",
      "pygments_lexer": "ipython3",
      "version": "3.7.6"
    },
    "varInspector": {
      "cols": {
        "lenName": 16,
        "lenType": 16,
        "lenVar": 40
      },
      "kernels_config": {
        "python": {
          "delete_cmd_postfix": "",
          "delete_cmd_prefix": "del ",
          "library": "var_list.py",
          "varRefreshCmd": "print(var_dic_list())"
        },
        "r": {
          "delete_cmd_postfix": ") ",
          "delete_cmd_prefix": "rm(",
          "library": "var_list.r",
          "varRefreshCmd": "cat(var_dic_list()) "
        }
      },
      "oldHeight": 122.4,
      "position": {
        "height": "204.391px",
        "left": "1496.39px",
        "right": "20px",
        "top": "136px",
        "width": "371px"
      },
      "types_to_exclude": [
        "module",
        "function",
        "builtin_function_or_method",
        "instance",
        "_Feature"
      ],
      "varInspector_section_display": "block",
      "window_display": false
    },
    "colab": {
      "name": "Python Intro Copy of Copy of D1 Part 1 - Intro",
      "provenance": [],
      "toc_visible": true
    }
  },
  "cells": [
    {
      "cell_type": "markdown",
      "metadata": {
        "id": "DVHj7ne4MJSb"
      },
      "source": [
        "# Module 4 - Introduction to Python"
      ]
    },
    {
      "cell_type": "markdown",
      "metadata": {
        "id": "tqMEZgJuMJSd"
      },
      "source": [
        "This notebook will go through the basic topics in order:\n",
        "* Data types\n",
        "    * Strings\n",
        "    * Numbers\n",
        "    * Sequence (list, tuple, sets)\n",
        "    * Dict\n",
        "    * Boolean\n",
        "* Assign Values\n",
        "* Output Variables\n",
        "* Operators (arithmetic,  assignment, comparison, bitwise, etc)\n",
        "* if, elif, else Statements\n",
        "* Functions\n",
        "* Loops\n",
        "* Lambda expressions\n",
        "* Classes/Objects\n",
        "\n",
        "---\n",
        "\n",
        "\n",
        "____"
      ]
    },
    {
      "cell_type": "markdown",
      "metadata": {
        "id": "oX-IHgFqMJSe"
      },
      "source": [
        "## Data types"
      ]
    },
    {
      "cell_type": "markdown",
      "metadata": {
        "id": "Ch-K46BPMJSk"
      },
      "source": [
        "### Strings"
      ]
    },
    {
      "cell_type": "code",
      "metadata": {
        "id": "hnWHPwtiMJSk",
        "colab": {
          "base_uri": "https://localhost:8080/",
          "height": 36
        },
        "outputId": "6879350f-770e-4f38-e15d-fd93f8544bd3"
      },
      "source": [
        "'single quotes'"
      ],
      "execution_count": null,
      "outputs": [
        {
          "output_type": "execute_result",
          "data": {
            "text/plain": [
              "'single quotes'"
            ],
            "application/vnd.google.colaboratory.intrinsic+json": {
              "type": "string"
            }
          },
          "metadata": {},
          "execution_count": 1
        }
      ]
    },
    {
      "cell_type": "code",
      "metadata": {
        "id": "XUNelOxJMJSk",
        "colab": {
          "base_uri": "https://localhost:8080/",
          "height": 36
        },
        "outputId": "35f862d2-a137-4cf8-9152-07df66083ecc"
      },
      "source": [
        "\"double quotes\""
      ],
      "execution_count": null,
      "outputs": [
        {
          "output_type": "execute_result",
          "data": {
            "text/plain": [
              "'double quotes'"
            ],
            "application/vnd.google.colaboratory.intrinsic+json": {
              "type": "string"
            }
          },
          "metadata": {},
          "execution_count": 3
        }
      ]
    },
    {
      "cell_type": "code",
      "metadata": {
        "id": "rsMZVg-AMJSk",
        "colab": {
          "base_uri": "https://localhost:8080/",
          "height": 36
        },
        "outputId": "e6aee191-6650-452a-9ab9-2d6aa6722500"
      },
      "source": [
        "\" wrap lot's of other quotes\""
      ],
      "execution_count": null,
      "outputs": [
        {
          "output_type": "execute_result",
          "data": {
            "text/plain": [
              "\" wrap lot's of other quotes\""
            ],
            "application/vnd.google.colaboratory.intrinsic+json": {
              "type": "string"
            }
          },
          "metadata": {},
          "execution_count": 4
        }
      ]
    },
    {
      "cell_type": "code",
      "metadata": {
        "id": "9BvLvYsiMJSk",
        "colab": {
          "base_uri": "https://localhost:8080/"
        },
        "outputId": "4c5ed518-4e53-4f7f-d146-df028cf21aeb"
      },
      "source": [
        "q = \"\"\"\n",
        "abcd\n",
        "efgh\n",
        "ijkl\n",
        "\"\"\"\n",
        "print(q)"
      ],
      "execution_count": null,
      "outputs": [
        {
          "output_type": "stream",
          "name": "stdout",
          "text": [
            "\n",
            "abcd\n",
            "efgh\n",
            "ijkl\n",
            "\n"
          ]
        }
      ]
    },
    {
      "cell_type": "markdown",
      "metadata": {
        "id": "jPniUR5xBBI7"
      },
      "source": [
        "### Numbers and Operators"
      ]
    },
    {
      "cell_type": "code",
      "metadata": {
        "id": "uVCgl92OMJSe"
      },
      "source": [
        "2+3"
      ],
      "execution_count": null,
      "outputs": []
    },
    {
      "cell_type": "code",
      "metadata": {
        "id": "x1q5wmX3MJSf"
      },
      "source": [
        "1 - 1"
      ],
      "execution_count": null,
      "outputs": []
    },
    {
      "cell_type": "code",
      "metadata": {
        "id": "f3PqVlCQMJSf",
        "colab": {
          "base_uri": "https://localhost:8080/",
          "height": 36
        },
        "outputId": "1e066e97-ac7c-4e2b-e139-5a7e4c800d94"
      },
      "source": [
        "\"1\""
      ],
      "execution_count": null,
      "outputs": [
        {
          "output_type": "execute_result",
          "data": {
            "text/plain": [
              "'1'"
            ],
            "application/vnd.google.colaboratory.intrinsic+json": {
              "type": "string"
            }
          },
          "metadata": {},
          "execution_count": 5
        }
      ]
    },
    {
      "cell_type": "code",
      "metadata": {
        "id": "q1_LqOohMJSg",
        "colab": {
          "base_uri": "https://localhost:8080/"
        },
        "outputId": "0c4eb4a1-7ea1-44e1-c707-b9fb0715514a"
      },
      "source": [
        "1"
      ],
      "execution_count": null,
      "outputs": [
        {
          "output_type": "execute_result",
          "data": {
            "text/plain": [
              "1"
            ]
          },
          "metadata": {},
          "execution_count": 6
        }
      ]
    },
    {
      "cell_type": "code",
      "metadata": {
        "scrolled": true,
        "id": "Yy8HG0byMJSg",
        "colab": {
          "base_uri": "https://localhost:8080/"
        },
        "outputId": "5c915d20-1b44-4c2e-f277-c85aab1ed37e"
      },
      "source": [
        "print(\"1\")"
      ],
      "execution_count": null,
      "outputs": [
        {
          "output_type": "stream",
          "name": "stdout",
          "text": [
            "1\n"
          ]
        }
      ]
    },
    {
      "cell_type": "code",
      "metadata": {
        "id": "qsE3uQKPMJSh"
      },
      "source": [
        "1 * 3"
      ],
      "execution_count": null,
      "outputs": []
    },
    {
      "cell_type": "code",
      "metadata": {
        "id": "BBHhf2KSMJSh"
      },
      "source": [
        "7 / 3"
      ],
      "execution_count": null,
      "outputs": []
    },
    {
      "cell_type": "code",
      "metadata": {
        "id": "iIVi9Bg4MJSh"
      },
      "source": [
        "#Integer Division\n",
        "7 // 3"
      ],
      "execution_count": null,
      "outputs": []
    },
    {
      "cell_type": "code",
      "metadata": {
        "id": "TAX8S4pTMJSi"
      },
      "source": [
        "#Raised to the Power\n",
        "2 ** 3"
      ],
      "execution_count": null,
      "outputs": []
    },
    {
      "cell_type": "code",
      "metadata": {
        "id": "qQS4mCFKMJSi"
      },
      "source": [
        "#Remainder\n",
        "4 % 2"
      ],
      "execution_count": null,
      "outputs": []
    },
    {
      "cell_type": "code",
      "metadata": {
        "id": "yedxMr-0MJSi"
      },
      "source": [
        "#Remainder\n",
        "5 % 2"
      ],
      "execution_count": null,
      "outputs": []
    },
    {
      "cell_type": "code",
      "metadata": {
        "id": "lvzGdFg3MJSi"
      },
      "source": [
        "(2 + 3) * (5 + 5)"
      ],
      "execution_count": null,
      "outputs": []
    },
    {
      "cell_type": "markdown",
      "metadata": {
        "id": "k5Jn5PWiMJSl"
      },
      "source": [
        "### Lists\n"
      ]
    },
    {
      "cell_type": "markdown",
      "metadata": {
        "id": "VC0C0Qp9C1UK"
      },
      "source": [
        "Created with `[]` bracket, used to contain data"
      ]
    },
    {
      "cell_type": "code",
      "metadata": {
        "id": "fCZTMKEmMJSl"
      },
      "source": [
        "[1,2,3]"
      ],
      "execution_count": null,
      "outputs": []
    },
    {
      "cell_type": "code",
      "metadata": {
        "id": "UdNSapHyMJSm"
      },
      "source": [
        "['hi',1,1.25,[1,2]]"
      ],
      "execution_count": null,
      "outputs": []
    },
    {
      "cell_type": "code",
      "metadata": {
        "id": "iUeHjMQNMJSm"
      },
      "source": [
        "my_list = ['a','b','c']"
      ],
      "execution_count": null,
      "outputs": []
    },
    {
      "cell_type": "code",
      "metadata": {
        "id": "ldGal7kOMJSm"
      },
      "source": [
        "my_list.append('d')"
      ],
      "execution_count": null,
      "outputs": []
    },
    {
      "cell_type": "code",
      "metadata": {
        "id": "VXdQe5Z1MJSm",
        "colab": {
          "base_uri": "https://localhost:8080/"
        },
        "outputId": "5f7e770c-9526-48b3-b27f-7346078b5bf8"
      },
      "source": [
        "my_list"
      ],
      "execution_count": null,
      "outputs": [
        {
          "output_type": "execute_result",
          "data": {
            "text/plain": [
              "['a', 'b', 'c', 'd']"
            ]
          },
          "metadata": {},
          "execution_count": 23
        }
      ]
    },
    {
      "cell_type": "code",
      "metadata": {
        "id": "Uqu1X3VOMJSn"
      },
      "source": [
        "nest = [1,2,3,[4,5,['target']]]"
      ],
      "execution_count": null,
      "outputs": []
    },
    {
      "cell_type": "code",
      "metadata": {
        "id": "lflqCnCJMJSn",
        "colab": {
          "base_uri": "https://localhost:8080/"
        },
        "outputId": "5723a317-b2bf-441b-893c-5fb51be7d9c4"
      },
      "source": [
        "nest[3]"
      ],
      "execution_count": null,
      "outputs": [
        {
          "output_type": "execute_result",
          "data": {
            "text/plain": [
              "[4, 5, ['target']]"
            ]
          },
          "metadata": {},
          "execution_count": 11
        }
      ]
    },
    {
      "cell_type": "code",
      "metadata": {
        "id": "kEtVvRGJMJSn",
        "colab": {
          "base_uri": "https://localhost:8080/"
        },
        "outputId": "e4fe6296-f853-4f56-b44d-9ccbc30ceeac"
      },
      "source": [
        "nest[3][2]"
      ],
      "execution_count": null,
      "outputs": [
        {
          "output_type": "execute_result",
          "data": {
            "text/plain": [
              "['target']"
            ]
          },
          "metadata": {},
          "execution_count": 10
        }
      ]
    },
    {
      "cell_type": "markdown",
      "metadata": {
        "id": "w28PcHFPMJSn"
      },
      "source": [
        "### Dictionaries"
      ]
    },
    {
      "cell_type": "code",
      "metadata": {
        "id": "wIFqRbwOMJSn"
      },
      "source": [
        "d = {'key1':'item1',2:1}"
      ],
      "execution_count": null,
      "outputs": []
    },
    {
      "cell_type": "code",
      "metadata": {
        "id": "Akbup8n0MJSn"
      },
      "source": [
        "d"
      ],
      "execution_count": null,
      "outputs": []
    },
    {
      "cell_type": "code",
      "metadata": {
        "id": "Amb8hmnTMJSo"
      },
      "source": [
        "d['key1']"
      ],
      "execution_count": null,
      "outputs": []
    },
    {
      "cell_type": "code",
      "metadata": {
        "id": "Lms8xDvlMJSo"
      },
      "source": [
        "d.keys()"
      ],
      "execution_count": null,
      "outputs": []
    },
    {
      "cell_type": "markdown",
      "metadata": {
        "id": "OjHHfYfJB0VU"
      },
      "source": [
        "### Boolean"
      ]
    },
    {
      "cell_type": "code",
      "metadata": {
        "id": "ZrhE0UjRCMDx"
      },
      "source": [
        "2 + 4 < 10"
      ],
      "execution_count": null,
      "outputs": []
    },
    {
      "cell_type": "code",
      "metadata": {
        "id": "F5kBH1JaCOef"
      },
      "source": [
        "34567 < 8910"
      ],
      "execution_count": null,
      "outputs": []
    },
    {
      "cell_type": "code",
      "metadata": {
        "id": "sGx98GB8CccE"
      },
      "source": [
        "\"a\" + \"b\" == \"gojek\""
      ],
      "execution_count": null,
      "outputs": []
    },
    {
      "cell_type": "code",
      "metadata": {
        "id": "uQMrHEjrB3n5"
      },
      "source": [
        "10 % 2 == 0"
      ],
      "execution_count": null,
      "outputs": []
    },
    {
      "cell_type": "markdown",
      "metadata": {
        "id": "z4t5mn9iMJSj"
      },
      "source": [
        "## Variable Assignment"
      ]
    },
    {
      "cell_type": "code",
      "metadata": {
        "id": "2btOUY7QMJSj"
      },
      "source": [
        "# Can not start with number or special characters\n",
        "name_of_var = 2"
      ],
      "execution_count": null,
      "outputs": []
    },
    {
      "cell_type": "code",
      "metadata": {
        "id": "Z3L7BzBaBdO_"
      },
      "source": [
        "x = 2\n",
        "y = 3.0"
      ],
      "execution_count": null,
      "outputs": []
    },
    {
      "cell_type": "code",
      "metadata": {
        "id": "--HDbbs9BfSY"
      },
      "source": [
        "z = x + y"
      ],
      "execution_count": null,
      "outputs": []
    },
    {
      "cell_type": "code",
      "metadata": {
        "id": "nslZdjp7Bgqa"
      },
      "source": [
        "z"
      ],
      "execution_count": null,
      "outputs": []
    },
    {
      "cell_type": "code",
      "metadata": {
        "id": "ORoepJikBiCH"
      },
      "source": [
        "print(z)"
      ],
      "execution_count": null,
      "outputs": []
    },
    {
      "cell_type": "markdown",
      "metadata": {
        "id": "DWwDjeSzMJSk"
      },
      "source": [
        "### Printing"
      ]
    },
    {
      "cell_type": "code",
      "metadata": {
        "id": "WdA6MTQVMJSk"
      },
      "source": [
        "x = 'hello'"
      ],
      "execution_count": null,
      "outputs": []
    },
    {
      "cell_type": "code",
      "metadata": {
        "id": "zIJsiHJLMJSk"
      },
      "source": [
        "x"
      ],
      "execution_count": null,
      "outputs": []
    },
    {
      "cell_type": "code",
      "metadata": {
        "id": "qlSKLyVoMJSl"
      },
      "source": [
        "print(x)"
      ],
      "execution_count": null,
      "outputs": []
    },
    {
      "cell_type": "code",
      "metadata": {
        "id": "39p4GIShMJSl"
      },
      "source": [
        "num = 12.5\n",
        "name = 'Sam'"
      ],
      "execution_count": null,
      "outputs": []
    },
    {
      "cell_type": "code",
      "metadata": {
        "id": "yTL0r5K2MJSl"
      },
      "source": [
        "print('My number is: {one}, and my name is: {two}'.format(one=num,two=name))"
      ],
      "execution_count": null,
      "outputs": []
    },
    {
      "cell_type": "code",
      "metadata": {
        "id": "CImLDizwMJSl"
      },
      "source": [
        "print('My number is: {}, and my name is: {}'.format(num,name))"
      ],
      "execution_count": null,
      "outputs": []
    },
    {
      "cell_type": "code",
      "metadata": {
        "id": "zcLmVRZSMJSl"
      },
      "source": [
        "print('My number is: %s, and my name is: %s'%(num,name))"
      ],
      "execution_count": null,
      "outputs": []
    },
    {
      "cell_type": "markdown",
      "metadata": {
        "id": "5BJQcXROMJSo"
      },
      "source": [
        "### Booleans"
      ]
    },
    {
      "cell_type": "code",
      "metadata": {
        "id": "Aqgtd96AMJSo"
      },
      "source": [
        "True"
      ],
      "execution_count": null,
      "outputs": []
    },
    {
      "cell_type": "code",
      "metadata": {
        "id": "MyHOYUnIMJSo"
      },
      "source": [
        "False"
      ],
      "execution_count": null,
      "outputs": []
    },
    {
      "cell_type": "markdown",
      "metadata": {
        "id": "4ByFpcSLMJSo"
      },
      "source": [
        "### Tuples "
      ]
    },
    {
      "cell_type": "markdown",
      "source": [
        "immutable = tidak dapat melakukan penambahan data"
      ],
      "metadata": {
        "id": "FfoOGtOhe0J5"
      }
    },
    {
      "cell_type": "code",
      "metadata": {
        "id": "fGrK8cJRMJSo"
      },
      "source": [
        "t = (1,2,3)"
      ],
      "execution_count": null,
      "outputs": []
    },
    {
      "cell_type": "code",
      "metadata": {
        "id": "9isHqOt-MJSo",
        "colab": {
          "base_uri": "https://localhost:8080/",
          "height": 190
        },
        "outputId": "6c098a56-e56e-4330-d971-d218c844e7e6"
      },
      "source": [
        "#Cannot append or add\n",
        "t.add(4)"
      ],
      "execution_count": null,
      "outputs": [
        {
          "output_type": "error",
          "ename": "AttributeError",
          "evalue": "ignored",
          "traceback": [
            "\u001b[0;31m---------------------------------------------------------------------------\u001b[0m",
            "\u001b[0;31mAttributeError\u001b[0m                            Traceback (most recent call last)",
            "\u001b[0;32m<ipython-input-16-c5c21cce15d9>\u001b[0m in \u001b[0;36m<module>\u001b[0;34m()\u001b[0m\n\u001b[1;32m      1\u001b[0m \u001b[0;31m#Cannot append or add\u001b[0m\u001b[0;34m\u001b[0m\u001b[0;34m\u001b[0m\u001b[0;34m\u001b[0m\u001b[0m\n\u001b[0;32m----> 2\u001b[0;31m \u001b[0mt\u001b[0m\u001b[0;34m.\u001b[0m\u001b[0madd\u001b[0m\u001b[0;34m(\u001b[0m\u001b[0;36m4\u001b[0m\u001b[0;34m)\u001b[0m\u001b[0;34m\u001b[0m\u001b[0;34m\u001b[0m\u001b[0m\n\u001b[0m",
            "\u001b[0;31mAttributeError\u001b[0m: 'tuple' object has no attribute 'add'"
          ]
        }
      ]
    },
    {
      "cell_type": "code",
      "metadata": {
        "id": "7SelQZUKMJSo",
        "colab": {
          "base_uri": "https://localhost:8080/"
        },
        "outputId": "fb31c90a-3d12-4f0b-9c1c-2660a9e8d6d3"
      },
      "source": [
        "t[0]"
      ],
      "execution_count": null,
      "outputs": [
        {
          "output_type": "execute_result",
          "data": {
            "text/plain": [
              "1"
            ]
          },
          "metadata": {},
          "execution_count": 17
        }
      ]
    },
    {
      "cell_type": "code",
      "metadata": {
        "id": "i-CMh9tNMJSo"
      },
      "source": [
        "t[0] = 'NEW'"
      ],
      "execution_count": null,
      "outputs": []
    },
    {
      "cell_type": "markdown",
      "metadata": {
        "id": "Yn0IqD1zMJSo"
      },
      "source": [
        "### Sets"
      ]
    },
    {
      "cell_type": "markdown",
      "source": [
        "set tidak dapat menyimpan data duplikat\n"
      ],
      "metadata": {
        "id": "QKCaD1ilfD9k"
      }
    },
    {
      "cell_type": "code",
      "metadata": {
        "id": "XMFd9g4GMJSp",
        "colab": {
          "base_uri": "https://localhost:8080/",
          "height": 190
        },
        "outputId": "1746fc98-1437-4707-91b4-86852b5f5a65"
      },
      "source": [
        "x = {1,2,3}\n",
        "x[0]"
      ],
      "execution_count": null,
      "outputs": [
        {
          "output_type": "error",
          "ename": "TypeError",
          "evalue": "ignored",
          "traceback": [
            "\u001b[0;31m---------------------------------------------------------------------------\u001b[0m",
            "\u001b[0;31mTypeError\u001b[0m                                 Traceback (most recent call last)",
            "\u001b[0;32m<ipython-input-29-c7741fac3041>\u001b[0m in \u001b[0;36m<module>\u001b[0;34m()\u001b[0m\n\u001b[1;32m      1\u001b[0m \u001b[0mx\u001b[0m \u001b[0;34m=\u001b[0m \u001b[0;34m{\u001b[0m\u001b[0;36m1\u001b[0m\u001b[0;34m,\u001b[0m\u001b[0;36m2\u001b[0m\u001b[0;34m,\u001b[0m\u001b[0;36m3\u001b[0m\u001b[0;34m}\u001b[0m\u001b[0;34m\u001b[0m\u001b[0;34m\u001b[0m\u001b[0m\n\u001b[0;32m----> 2\u001b[0;31m \u001b[0mx\u001b[0m\u001b[0;34m[\u001b[0m\u001b[0;36m0\u001b[0m\u001b[0;34m]\u001b[0m\u001b[0;34m\u001b[0m\u001b[0;34m\u001b[0m\u001b[0m\n\u001b[0m",
            "\u001b[0;31mTypeError\u001b[0m: 'set' object is not subscriptable"
          ]
        }
      ]
    },
    {
      "cell_type": "code",
      "metadata": {
        "id": "bJxgdcRNMJSp",
        "colab": {
          "base_uri": "https://localhost:8080/"
        },
        "outputId": "d5c3fca6-4f3d-4b66-e1c3-ef6264045d9a"
      },
      "source": [
        "x = {2,3,1,2,1,2,3,3,3,3,2,2,2,1,1,2}\n",
        "x"
      ],
      "execution_count": null,
      "outputs": [
        {
          "output_type": "execute_result",
          "data": {
            "text/plain": [
              "{1, 2, 3}"
            ]
          },
          "metadata": {},
          "execution_count": 30
        }
      ]
    },
    {
      "cell_type": "code",
      "metadata": {
        "id": "Ryc9B9cOMJSp",
        "colab": {
          "base_uri": "https://localhost:8080/",
          "height": 172
        },
        "outputId": "0b0476b9-254e-4efd-8256-bfdf5c50c616"
      },
      "source": [
        "x[0] = 5"
      ],
      "execution_count": null,
      "outputs": [
        {
          "output_type": "error",
          "ename": "TypeError",
          "evalue": "ignored",
          "traceback": [
            "\u001b[0;31m---------------------------------------------------------------------------\u001b[0m",
            "\u001b[0;31mTypeError\u001b[0m                                 Traceback (most recent call last)",
            "\u001b[0;32m<ipython-input-31-1053a2668c21>\u001b[0m in \u001b[0;36m<module>\u001b[0;34m()\u001b[0m\n\u001b[0;32m----> 1\u001b[0;31m \u001b[0mx\u001b[0m\u001b[0;34m[\u001b[0m\u001b[0;36m0\u001b[0m\u001b[0;34m]\u001b[0m \u001b[0;34m=\u001b[0m \u001b[0;36m5\u001b[0m\u001b[0;34m\u001b[0m\u001b[0;34m\u001b[0m\u001b[0m\n\u001b[0m",
            "\u001b[0;31mTypeError\u001b[0m: 'set' object does not support item assignment"
          ]
        }
      ]
    },
    {
      "cell_type": "code",
      "metadata": {
        "id": "79XPjZ4sMJSp",
        "colab": {
          "base_uri": "https://localhost:8080/"
        },
        "outputId": "80c4e2e8-04a2-4ab3-b6d1-c642b4c4458d"
      },
      "source": [
        "x.add(5)\n",
        "x"
      ],
      "execution_count": null,
      "outputs": [
        {
          "output_type": "execute_result",
          "data": {
            "text/plain": [
              "{1, 2, 3, 5}"
            ]
          },
          "metadata": {},
          "execution_count": 32
        }
      ]
    },
    {
      "cell_type": "code",
      "metadata": {
        "id": "UVj4efAJMJSp"
      },
      "source": [
        "x.pop()\n",
        "x"
      ],
      "execution_count": null,
      "outputs": []
    },
    {
      "cell_type": "code",
      "metadata": {
        "id": "oU1KUf6pMJSp"
      },
      "source": [
        "1 > 2"
      ],
      "execution_count": null,
      "outputs": []
    },
    {
      "cell_type": "code",
      "metadata": {
        "id": "mQq2zTiQMJSp"
      },
      "source": [
        "1 < 2"
      ],
      "execution_count": null,
      "outputs": []
    },
    {
      "cell_type": "code",
      "metadata": {
        "id": "SEoKgLnmMJSp"
      },
      "source": [
        "1 >= 1"
      ],
      "execution_count": null,
      "outputs": []
    },
    {
      "cell_type": "code",
      "metadata": {
        "id": "tpW8vKwYMJSp"
      },
      "source": [
        "1 <= 4"
      ],
      "execution_count": null,
      "outputs": []
    },
    {
      "cell_type": "code",
      "metadata": {
        "id": "Ezfuar0eMJSp"
      },
      "source": [
        "1 == 1"
      ],
      "execution_count": null,
      "outputs": []
    },
    {
      "cell_type": "code",
      "metadata": {
        "id": "V5FdRT-kMJSp"
      },
      "source": [
        "'hi'!= 'bye'"
      ],
      "execution_count": null,
      "outputs": []
    },
    {
      "cell_type": "markdown",
      "metadata": {
        "id": "jEDacfUHMJSq"
      },
      "source": [
        "## Logic Operators"
      ]
    },
    {
      "cell_type": "code",
      "metadata": {
        "id": "lWHEU0t5sdGB"
      },
      "source": [
        "1 > 2"
      ],
      "execution_count": null,
      "outputs": []
    },
    {
      "cell_type": "code",
      "metadata": {
        "id": "6BsNHUKZtNbo"
      },
      "source": [
        "1 < 2"
      ],
      "execution_count": null,
      "outputs": []
    },
    {
      "cell_type": "code",
      "metadata": {
        "id": "c-_d4TmltPTi"
      },
      "source": [
        "1 >= 1"
      ],
      "execution_count": null,
      "outputs": []
    },
    {
      "cell_type": "code",
      "metadata": {
        "id": "hjjUvhN4tR0M"
      },
      "source": [
        "1 <= 4"
      ],
      "execution_count": null,
      "outputs": []
    },
    {
      "cell_type": "code",
      "metadata": {
        "id": "IFGfTNu5tTUI"
      },
      "source": [
        "1 == 1"
      ],
      "execution_count": null,
      "outputs": []
    },
    {
      "cell_type": "code",
      "metadata": {
        "id": "9kpPKLoQtVHJ"
      },
      "source": [
        "'hi'!= 'bye'"
      ],
      "execution_count": null,
      "outputs": []
    },
    {
      "cell_type": "code",
      "metadata": {
        "id": "ogSWT5nQMJSq"
      },
      "source": [
        "(1 > 2) and (2 < 3)"
      ],
      "execution_count": null,
      "outputs": []
    },
    {
      "cell_type": "code",
      "metadata": {
        "id": "n1OOZpesMJSq"
      },
      "source": [
        "(1 > 2) or (2 < 3)"
      ],
      "execution_count": null,
      "outputs": []
    },
    {
      "cell_type": "code",
      "metadata": {
        "id": "Xaz66pZpMJSq"
      },
      "source": [
        "(1 == 2) or (2 == 3) or (4 == 4)"
      ],
      "execution_count": null,
      "outputs": []
    },
    {
      "cell_type": "code",
      "metadata": {
        "id": "QyRsK9DXMJSq"
      },
      "source": [
        "not(1!=2)"
      ],
      "execution_count": null,
      "outputs": []
    },
    {
      "cell_type": "markdown",
      "metadata": {
        "id": "M2zWqcSBMJSq"
      },
      "source": [
        "## if,elif, else Statements"
      ]
    },
    {
      "cell_type": "code",
      "metadata": {
        "id": "PyeXmsZOMJSq"
      },
      "source": [
        "if 1 > 2:\n",
        "    print('Yep!')\n",
        "print('Test')"
      ],
      "execution_count": null,
      "outputs": []
    },
    {
      "cell_type": "code",
      "metadata": {
        "id": "dhu28wb3MJSq",
        "colab": {
          "base_uri": "https://localhost:8080/"
        },
        "outputId": "b67029af-e6f1-4ad9-9e42-34a83e71cfcb"
      },
      "source": [
        "if 1 < 2:\n",
        "    print('Yep!')\n",
        "    print(1+2)\n",
        "    print('Hello World!')\n",
        "\n",
        "print('Test')"
      ],
      "execution_count": 1,
      "outputs": [
        {
          "output_type": "stream",
          "name": "stdout",
          "text": [
            "Yep!\n",
            "3\n",
            "Hello World!\n",
            "Test\n"
          ]
        }
      ]
    },
    {
      "cell_type": "code",
      "metadata": {
        "id": "cha3pF4OMJSq",
        "colab": {
          "base_uri": "https://localhost:8080/"
        },
        "outputId": "143c4726-22fc-4c42-b9b0-7ffaf3a9ce6a"
      },
      "source": [
        "if 1 > 2:\n",
        "    print('first')\n",
        "else:\n",
        "    print('last')"
      ],
      "execution_count": 2,
      "outputs": [
        {
          "output_type": "stream",
          "name": "stdout",
          "text": [
            "last\n"
          ]
        }
      ]
    },
    {
      "cell_type": "code",
      "metadata": {
        "id": "lLE2vXmwMJSq",
        "colab": {
          "base_uri": "https://localhost:8080/"
        },
        "outputId": "875bd2c2-d7fe-4d32-8b6e-6110260029fe"
      },
      "source": [
        "if 1 == 2:\n",
        "    print('first')\n",
        "elif 3 == 3:\n",
        "    print('middle')\n",
        "    if 1<2:\n",
        "        print(\"checking\")\n",
        "else:\n",
        "    print('Last')\n",
        "    \n",
        "print(\"The End\")"
      ],
      "execution_count": 3,
      "outputs": [
        {
          "output_type": "stream",
          "name": "stdout",
          "text": [
            "middle\n",
            "checking\n",
            "The End\n"
          ]
        }
      ]
    },
    {
      "cell_type": "markdown",
      "metadata": {
        "id": "zcDt7eMDMJSr"
      },
      "source": [
        "## range()"
      ]
    },
    {
      "cell_type": "code",
      "metadata": {
        "id": "MP5FRcb2MJSr"
      },
      "source": [
        "range(5)"
      ],
      "execution_count": null,
      "outputs": []
    },
    {
      "cell_type": "code",
      "metadata": {
        "id": "bdmQqkIXMJSr"
      },
      "source": [
        "for i in range(5):\n",
        "    print(i)"
      ],
      "execution_count": null,
      "outputs": []
    },
    {
      "cell_type": "code",
      "metadata": {
        "id": "hM9GsoluMJSs"
      },
      "source": [
        "list(range(5))"
      ],
      "execution_count": null,
      "outputs": []
    },
    {
      "cell_type": "code",
      "metadata": {
        "id": "5_TsKr9RMJSs"
      },
      "source": [
        "#Help for any function\n",
        "?range"
      ],
      "execution_count": 4,
      "outputs": []
    },
    {
      "cell_type": "code",
      "metadata": {
        "id": "3QPuWrvbMJSs"
      },
      "source": [
        "range()"
      ],
      "execution_count": null,
      "outputs": []
    },
    {
      "cell_type": "code",
      "metadata": {
        "id": "IdAuR1KRMJSs"
      },
      "source": [
        "list(range(1,11,3))"
      ],
      "execution_count": null,
      "outputs": []
    },
    {
      "cell_type": "markdown",
      "metadata": {
        "id": "DYxdqCmkMJSs"
      },
      "source": [
        "## functions"
      ]
    },
    {
      "cell_type": "code",
      "metadata": {
        "id": "LPF48cd4MJSs"
      },
      "source": [
        "def my_func(param1='abc'):\n",
        "    \"\"\"\n",
        "    Docstring goes here.\n",
        "    Put in more details about the parameters.\n",
        "    \"\"\"\n",
        "    print(param1)\n",
        "\n",
        "my_func(123)"
      ],
      "execution_count": null,
      "outputs": []
    },
    {
      "cell_type": "code",
      "metadata": {
        "id": "4jXJBTHOMJSt"
      },
      "source": [
        "my_func"
      ],
      "execution_count": null,
      "outputs": []
    },
    {
      "cell_type": "code",
      "metadata": {
        "id": "Xk6jyTdOMJSt"
      },
      "source": [
        "my_func()"
      ],
      "execution_count": null,
      "outputs": []
    },
    {
      "cell_type": "code",
      "metadata": {
        "id": "SWM7gfYXMJSt"
      },
      "source": [
        "my_func('new 1')"
      ],
      "execution_count": null,
      "outputs": []
    },
    {
      "cell_type": "code",
      "metadata": {
        "id": "_6EVp2nCMJSt"
      },
      "source": [
        "?my_func"
      ],
      "execution_count": null,
      "outputs": []
    },
    {
      "cell_type": "code",
      "metadata": {
        "id": "VCpRh1xgMJSt"
      },
      "source": [
        "my_func(param1='new param')"
      ],
      "execution_count": null,
      "outputs": []
    },
    {
      "cell_type": "code",
      "metadata": {
        "id": "CW0-duSHMJSt"
      },
      "source": [
        "def square(x):\n",
        "    \"\"\"\n",
        "    This function returns the square of any number passed as a parameter\n",
        "    \"\"\"\n",
        "    return x**2"
      ],
      "execution_count": null,
      "outputs": []
    },
    {
      "cell_type": "code",
      "metadata": {
        "id": "WWLJVkxuMJSt"
      },
      "source": [
        "out = square(4)"
      ],
      "execution_count": null,
      "outputs": []
    },
    {
      "cell_type": "code",
      "metadata": {
        "scrolled": true,
        "id": "lercBy3-MJSt"
      },
      "source": [
        "print(out)"
      ],
      "execution_count": null,
      "outputs": []
    },
    {
      "cell_type": "markdown",
      "metadata": {
        "id": "7t7DtfH4MJSr"
      },
      "source": [
        "## for Loops"
      ]
    },
    {
      "cell_type": "code",
      "metadata": {
        "id": "riG3_CERMJSr"
      },
      "source": [
        "seq = [1,2,3,4,5]"
      ],
      "execution_count": null,
      "outputs": []
    },
    {
      "cell_type": "code",
      "metadata": {
        "id": "hExCI-K_MJSr"
      },
      "source": [
        "for item in seq:\n",
        "    print(item)\n",
        "    print('_____')"
      ],
      "execution_count": null,
      "outputs": []
    },
    {
      "cell_type": "code",
      "metadata": {
        "id": "Xe_uKYKdMJSr"
      },
      "source": [
        "for item in seq:\n",
        "    print('Yep')"
      ],
      "execution_count": null,
      "outputs": []
    },
    {
      "cell_type": "code",
      "metadata": {
        "id": "x8ubn8DrMJSr"
      },
      "source": [
        "for cat in seq:\n",
        "    print(cat+cat)"
      ],
      "execution_count": null,
      "outputs": []
    },
    {
      "cell_type": "markdown",
      "metadata": {
        "id": "ejq6a4PGMJSr"
      },
      "source": [
        "## while Loops"
      ]
    },
    {
      "cell_type": "code",
      "metadata": {
        "id": "gJv73iu-MJSr"
      },
      "source": [
        "i = 1\n",
        "while i < 5:\n",
        "    print('i is: {}'.format(i))\n",
        "    i = i+1"
      ],
      "execution_count": null,
      "outputs": []
    },
    {
      "cell_type": "markdown",
      "metadata": {
        "id": "Q_i7kEV2MJSs"
      },
      "source": [
        "### list comprehension"
      ]
    },
    {
      "cell_type": "code",
      "metadata": {
        "id": "JqrF5U7tMJSs"
      },
      "source": [
        "x = [1,2,3,4]"
      ],
      "execution_count": null,
      "outputs": []
    },
    {
      "cell_type": "code",
      "metadata": {
        "id": "TsIibjXuMJSs"
      },
      "source": [
        "out = []\n",
        "for item in x:\n",
        "    out.append(item**2)\n",
        "print(out)"
      ],
      "execution_count": null,
      "outputs": []
    },
    {
      "cell_type": "code",
      "metadata": {
        "id": "_37j_Xp7MJSs"
      },
      "source": [
        "[item**2 for item in x]"
      ],
      "execution_count": null,
      "outputs": []
    },
    {
      "cell_type": "markdown",
      "metadata": {
        "id": "REZNQ8NKMJSt"
      },
      "source": [
        "## lambda expressions"
      ]
    },
    {
      "cell_type": "markdown",
      "source": [
        "terkait dengan list comprehension, apa yg membuat powerful? lambda bisa mengganntikan unction"
      ],
      "metadata": {
        "id": "vDOMmlNpP1Lh"
      }
    },
    {
      "cell_type": "code",
      "metadata": {
        "id": "0wRQZ5KoMJSt"
      },
      "source": [
        "def times2(var):\n",
        "    return var*2"
      ],
      "execution_count": null,
      "outputs": []
    },
    {
      "cell_type": "code",
      "metadata": {
        "id": "ijaMRYDAMJSu",
        "colab": {
          "base_uri": "https://localhost:8080/"
        },
        "outputId": "438ae219-a496-4628-b819-8fd58affbb8c"
      },
      "source": [
        "times2(1234)"
      ],
      "execution_count": null,
      "outputs": [
        {
          "output_type": "execute_result",
          "data": {
            "text/plain": [
              "2468"
            ]
          },
          "metadata": {},
          "execution_count": 26
        }
      ]
    },
    {
      "cell_type": "code",
      "metadata": {
        "id": "YDP9O-7MMJSu"
      },
      "source": [
        "times2_1 = lambda var: var*2"
      ],
      "execution_count": null,
      "outputs": []
    },
    {
      "cell_type": "code",
      "metadata": {
        "id": "1OMoI0A2MJSu",
        "colab": {
          "base_uri": "https://localhost:8080/"
        },
        "outputId": "17d1bedd-c7f4-4279-b8fa-c29de92159ef"
      },
      "source": [
        "times2_1(1234)"
      ],
      "execution_count": null,
      "outputs": [
        {
          "output_type": "execute_result",
          "data": {
            "text/plain": [
              "2468"
            ]
          },
          "metadata": {},
          "execution_count": 28
        }
      ]
    },
    {
      "cell_type": "markdown",
      "metadata": {
        "id": "zcB8whp0MJSu"
      },
      "source": [
        "## map and filter"
      ]
    },
    {
      "cell_type": "code",
      "metadata": {
        "id": "fpD8Lf_cMJSu"
      },
      "source": [
        "seq = [1,2,3,4,5]"
      ],
      "execution_count": null,
      "outputs": []
    },
    {
      "cell_type": "code",
      "metadata": {
        "id": "rYoZggccMJSu"
      },
      "source": [
        "map(times2,seq)"
      ],
      "execution_count": null,
      "outputs": []
    },
    {
      "cell_type": "code",
      "metadata": {
        "id": "VFXLEP5rMJSu"
      },
      "source": [
        "list(map(times2_1,seq))"
      ],
      "execution_count": null,
      "outputs": []
    },
    {
      "cell_type": "code",
      "metadata": {
        "id": "LBi7Hxt1MJSu"
      },
      "source": [
        "seq*2"
      ],
      "execution_count": null,
      "outputs": []
    },
    {
      "cell_type": "code",
      "metadata": {
        "id": "H_QARuuJMJSv"
      },
      "source": [
        "list(map(lambda var: var*2,seq))"
      ],
      "execution_count": null,
      "outputs": []
    },
    {
      "cell_type": "code",
      "metadata": {
        "id": "wmMLSPZxMJSv"
      },
      "source": [
        "filter(lambda item: item%2 == 0,seq)"
      ],
      "execution_count": null,
      "outputs": []
    },
    {
      "cell_type": "code",
      "metadata": {
        "id": "uqDekTfmMJSv"
      },
      "source": [
        "list(filter(lambda item: item%2 == 0,seq))"
      ],
      "execution_count": null,
      "outputs": []
    },
    {
      "cell_type": "markdown",
      "metadata": {
        "id": "qAuwE7VgMJSv"
      },
      "source": [
        "## methods"
      ]
    },
    {
      "cell_type": "code",
      "metadata": {
        "id": "0qwsOWnqMJSv"
      },
      "source": [
        "st = 'hello my name is SAM'"
      ],
      "execution_count": null,
      "outputs": []
    },
    {
      "cell_type": "code",
      "metadata": {
        "id": "ph3Ol0I7MJSv"
      },
      "source": [
        "st.lower()"
      ],
      "execution_count": null,
      "outputs": []
    },
    {
      "cell_type": "code",
      "metadata": {
        "id": "w652aCdaMJSv"
      },
      "source": [
        "st.upper()"
      ],
      "execution_count": null,
      "outputs": []
    },
    {
      "cell_type": "code",
      "metadata": {
        "id": "rFrd8tWkMJSv"
      },
      "source": [
        "st.split()"
      ],
      "execution_count": null,
      "outputs": []
    },
    {
      "cell_type": "code",
      "metadata": {
        "id": "tiNSElmvMJSv"
      },
      "source": [
        "tweet = 'Go Sports! #Sports'"
      ],
      "execution_count": 5,
      "outputs": []
    },
    {
      "cell_type": "code",
      "metadata": {
        "id": "k3oM5fdSMJSv",
        "colab": {
          "base_uri": "https://localhost:8080/"
        },
        "outputId": "cfd3f14c-8e9c-4184-cf22-50db3e35b874"
      },
      "source": [
        "tweet.split('#')"
      ],
      "execution_count": 6,
      "outputs": [
        {
          "output_type": "execute_result",
          "data": {
            "text/plain": [
              "['Go Sports! ', 'Sports']"
            ]
          },
          "metadata": {},
          "execution_count": 6
        }
      ]
    },
    {
      "cell_type": "code",
      "metadata": {
        "id": "JdP7WPjeMJSv",
        "colab": {
          "base_uri": "https://localhost:8080/",
          "height": 36
        },
        "outputId": "aac22f2b-c73a-427a-a58b-390c68d3cd48"
      },
      "source": [
        "tweet.split('#')[1]"
      ],
      "execution_count": 7,
      "outputs": [
        {
          "output_type": "execute_result",
          "data": {
            "text/plain": [
              "'Sports'"
            ],
            "application/vnd.google.colaboratory.intrinsic+json": {
              "type": "string"
            }
          },
          "metadata": {},
          "execution_count": 7
        }
      ]
    },
    {
      "cell_type": "code",
      "metadata": {
        "id": "ZHGJXbc-MJSv",
        "colab": {
          "base_uri": "https://localhost:8080/"
        },
        "outputId": "a9c65e6a-53af-407c-8fe0-c14fae21ead2"
      },
      "source": [
        "d = {'key1': 'item1', 'key2': 'item2'}\n",
        "d"
      ],
      "execution_count": 8,
      "outputs": [
        {
          "output_type": "execute_result",
          "data": {
            "text/plain": [
              "{'key1': 'item1', 'key2': 'item2'}"
            ]
          },
          "metadata": {},
          "execution_count": 8
        }
      ]
    },
    {
      "cell_type": "code",
      "metadata": {
        "id": "42xLRZ6WMJSw",
        "colab": {
          "base_uri": "https://localhost:8080/"
        },
        "outputId": "4f8925df-01d9-4b69-b152-8d253fcdc8e1"
      },
      "source": [
        "d.keys()"
      ],
      "execution_count": 9,
      "outputs": [
        {
          "output_type": "execute_result",
          "data": {
            "text/plain": [
              "dict_keys(['key1', 'key2'])"
            ]
          },
          "metadata": {},
          "execution_count": 9
        }
      ]
    },
    {
      "cell_type": "code",
      "metadata": {
        "id": "QFu4IavpMJSw",
        "colab": {
          "base_uri": "https://localhost:8080/"
        },
        "outputId": "28133d3b-74c6-4fb5-b440-9db8eb5e59e4"
      },
      "source": [
        "d.items()"
      ],
      "execution_count": 10,
      "outputs": [
        {
          "output_type": "execute_result",
          "data": {
            "text/plain": [
              "dict_items([('key1', 'item1'), ('key2', 'item2')])"
            ]
          },
          "metadata": {},
          "execution_count": 10
        }
      ]
    },
    {
      "cell_type": "code",
      "metadata": {
        "id": "5iHaJzV4MJSw"
      },
      "source": [
        "lst = [1,2,3]"
      ],
      "execution_count": null,
      "outputs": []
    },
    {
      "cell_type": "code",
      "metadata": {
        "id": "RUPIPxgsMJSw"
      },
      "source": [
        "lst.pop()"
      ],
      "execution_count": null,
      "outputs": []
    },
    {
      "cell_type": "code",
      "metadata": {
        "id": "15k6C_C0MJSw"
      },
      "source": [
        "lst"
      ],
      "execution_count": null,
      "outputs": []
    },
    {
      "cell_type": "code",
      "metadata": {
        "id": "kzBLssiqMJSw"
      },
      "source": [
        "'x' in [1,2,3]"
      ],
      "execution_count": null,
      "outputs": []
    },
    {
      "cell_type": "code",
      "metadata": {
        "id": "yX73qMO2MJSw"
      },
      "source": [
        "'x' in ['x','y','z']"
      ],
      "execution_count": null,
      "outputs": []
    },
    {
      "cell_type": "code",
      "metadata": {
        "id": "8i7ovp-HMJSw"
      },
      "source": [
        ""
      ],
      "execution_count": null,
      "outputs": []
    },
    {
      "cell_type": "markdown",
      "source": [
        "note\n",
        "perbedaan list dan array"
      ],
      "metadata": {
        "id": "UOdbgZEpW08v"
      }
    },
    {
      "cell_type": "markdown",
      "source": [
        "![image.png](data:image/png;base64,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)"
      ],
      "metadata": {
        "id": "taexHrPPW48B"
      }
    },
    {
      "cell_type": "code",
      "source": [
        ""
      ],
      "metadata": {
        "id": "3anDon0SW1fB"
      },
      "execution_count": null,
      "outputs": []
    }
  ]
}